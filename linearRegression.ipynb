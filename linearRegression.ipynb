{
 "cells": [
  {
   "cell_type": "code",
   "execution_count": 1,
   "metadata": {
    "collapsed": true
   },
   "outputs": [],
   "source": [
    "import numpy as np\n",
    "import matplotlib.pyplot as plt\n",
    "from sklearn.datasets import load_svmlight_file\n",
    "from sklearn.model_selection import train_test_split"
   ]
  },
  {
   "cell_type": "code",
   "execution_count": 2,
   "metadata": {},
   "outputs": [],
   "source": [
    "data = load_svmlight_file(\"housing_scale.txt\")\n",
    "X_train, X_test, y_train, y_test = train_test_split(data[0].todense(), data[1], test_size=0.33, random_state=42)"
   ]
  },
  {
   "cell_type": "code",
   "execution_count": 3,
   "metadata": {
    "collapsed": true
   },
   "outputs": [],
   "source": [
    "b1 = np.ones(X_train.shape[0])\n",
    "X_train = np.c_[X_train,b1]\n",
    "b2 = np.ones(X_test.shape[0])\n",
    "X_test = np.c_[X_test,b2]"
   ]
  },
  {
   "cell_type": "code",
   "execution_count": 4,
   "metadata": {
    "collapsed": true
   },
   "outputs": [],
   "source": [
    "rate = 0.1\n",
    "iter = 100\n",
    "dimension = X_train.shape[1]"
   ]
  },
  {
   "cell_type": "code",
   "execution_count": 5,
   "metadata": {
    "collapsed": true
   },
   "outputs": [],
   "source": [
    "#w = np.zeros(dimension)                   #全零初始化\n",
    "w = np.random.normal(size = (dimension))   #正态分布初始化\n",
    "G = np.zeros(dimension)\n",
    "deviation_array = np.zeros(X_train.shape[0])"
   ]
  },
  {
   "cell_type": "code",
   "execution_count": 6,
   "metadata": {
    "collapsed": true
   },
   "outputs": [],
   "source": [
    "def linear_regression (X_train,y_train,X_test,y_test,w):   #L2 loss\n",
    "    train_loss = np.zeros(iter)\n",
    "    validation_loss = np.zeros(iter)\n",
    "    for i in range(iter):\n",
    "        #trainLoss\n",
    "        deviation_train = y_train.reshape(y_train.shape[0],1) - np.dot(X_train, w.reshape(dimension,1))\n",
    "        for j in range(deviation_train.shape[0]):\n",
    "            train_loss[i] = train_loss[i] + deviation_train[j] ** 2\n",
    "        train_loss[i] = train_loss[i] / deviation_train.shape[0]\n",
    "        #validationLoss\n",
    "        deviation_test = y_test.reshape(y_test.shape[0],1) - np.dot(X_test, w.reshape(dimension,1))\n",
    "        for j in range(deviation_test.shape[0]):\n",
    "            validation_loss[i] = validation_loss[i] + deviation_test[j] ** 2\n",
    "        validation_loss[i] = validation_loss[i] / deviation_test.shape[0]\n",
    "        #gradient descent\n",
    "        G = -np.dot(deviation_train.reshape(1,deviation_train.shape[0]), X_train / X_train.shape[0])\n",
    "        w = w - rate * G\n",
    "    return train_loss,validation_loss"
   ]
  },
  {
   "cell_type": "code",
   "execution_count": 7,
   "metadata": {
    "collapsed": true
   },
   "outputs": [],
   "source": [
    "L_train, L_validation = linear_regression(X_train, y_train,X_test,y_test,w)"
   ]
  },
  {
   "cell_type": "code",
   "execution_count": 8,
   "metadata": {},
   "outputs": [
    {
     "data": {
      "image/png": "[encoded data removed]",
      "text/plain": [
       "<matplotlib.figure.Figure at 0x16238ac66a0>"
      ]
     },
     "metadata": {},
     "output_type": "display_data"
    }
   ],
   "source": [
    "x = np.arange(iter)\n",
    "plt.plot(x, L_train.tolist())\n",
    "plt.show()"
   ]
  },
  {
   "cell_type": "code",
   "execution_count": 9,
   "metadata": {},
   "outputs": [
    {
     "data": {
      "image/png": "[encoded data removed]",
      "text/plain": [
       "<matplotlib.figure.Figure at 0x16238c62828>"
      ]
     },
     "metadata": {},
     "output_type": "display_data"
    }
   ],
   "source": [
    "plt.plot(x, L_validation.tolist())\n",
    "plt.show()"
   ]
  },
  {
   "cell_type": "code",
   "execution_count": 10,
   "metadata": {},
   "outputs": [
    {
     "data": {
      "text/plain": [
       "array([ 632.50912651,  227.42929828,  116.18767795,   84.5159812 ,\n",
       "         74.45544285,   70.32125919,   67.86321182,   65.92513467,\n",
       "         64.18889891,   62.56396703,   61.02205809,   59.55225661,\n",
       "         58.14874455,   56.80739187,   55.52476859,   54.29782983,\n",
       "         53.12379592,   52.00009422,   50.92432433,   49.89423411,\n",
       "         48.90770211,   47.96272391,   47.05740147,   46.18993441,\n",
       "         45.35861274,   44.56181078,   43.79798181,   43.06565341,\n",
       "         42.36342326,   41.6899553 ,   41.04397628,   40.42427251,\n",
       "         39.82968684,   39.25911587,   38.71150728,   38.18585734,\n",
       "         37.68120857,   37.19664749,   36.73130252,   36.28434196,\n",
       "         35.85497212,   35.44243547,   35.04600896,   34.66500236,\n",
       "         34.29875674,   33.94664295,   33.60806026,   33.282435  ,\n",
       "         32.96921929,   32.66788985,   32.37794684,   32.09891272,\n",
       "         31.83033131,   31.57176669,   31.32280233,   31.08304016,\n",
       "         30.8520997 ,   30.6296173 ,   30.41524529,   30.20865132,\n",
       "         30.00951757,   29.81754018,   29.63242851,   29.45390461,\n",
       "         29.2817026 ,   29.11556815,   28.9552579 ,   28.80053903,\n",
       "         28.65118874,   28.50699377,   28.36775005,   28.23326221,\n",
       "         28.10334322,   27.977814  ,   27.8565031 ,   27.73924629,\n",
       "         27.62588632,   27.51627254,   27.41026063,   27.30771234,\n",
       "         27.20849518,   27.11248221,   27.01955175,   26.92958718,\n",
       "         26.84247669,   26.75811312,   26.67639369,   26.59721984,\n",
       "         26.52049706,   26.44613469,   26.37404578,   26.30414687,\n",
       "         26.23635791,   26.17060209,   26.10680567,   26.04489788,\n",
       "         25.98481079,   25.92647916,   25.86984037,   25.81483428])"
      ]
     },
     "execution_count": 10,
     "metadata": {},
     "output_type": "execute_result"
    }
   ],
   "source": [
    "L_train"
   ]
  }
 ],
 "metadata": {
  "kernelspec": {
   "display_name": "Python 3",
   "language": "python",
   "name": "python3"
  },
  "language_info": {
   "codemirror_mode": {
    "name": "ipython",
    "version": 3
   },
   "file_extension": ".py",
   "mimetype": "text/x-python",
   "name": "python",
   "nbconvert_exporter": "python",
   "pygments_lexer": "ipython3",
   "version": "3.6.3"
  }
 },
 "nbformat": 4,
 "nbformat_minor": 2
}
