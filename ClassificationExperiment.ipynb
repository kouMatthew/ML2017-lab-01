{
 "cells": [
  {
   "cell_type": "code",
   "execution_count": 1,
   "metadata": {
    "collapsed": true
   },
   "outputs": [],
   "source": [
    "import numpy as np\n",
    "import matplotlib.pyplot as plt\n",
    "from sklearn.datasets import load_svmlight_file\n",
    "from sklearn.model_selection import train_test_split\n",
    "%matplotlib inline"
   ]
  },
  {
   "cell_type": "code",
   "execution_count": 2,
   "metadata": {
    "collapsed": true
   },
   "outputs": [],
   "source": [
    "data = load_svmlight_file(\"australian_scale.txt\")\n",
    "X_train, X_vali, y_train, y_vali = train_test_split(data[0].todense(), data[1], test_size=0.25, random_state=42)"
   ]
  },
  {
   "cell_type": "code",
   "execution_count": 3,
   "metadata": {
    "collapsed": true
   },
   "outputs": [],
   "source": [
    "X_train = np.c_[X_train, np.ones(X_train.shape[0])]\n",
    "X_vali = np.c_[X_vali, np.ones(X_vali.shape[0])]\n",
    "eta = 0.0005\n",
    "C = 1\n",
    "iter = 500\n",
    "dimension = X_train.shape[1]  \n",
    "w = np.random.normal(size = (dimension))   #正态分布初始化\n",
    "G = np.zeros(dimension)   "
   ]
  },
  {
   "cell_type": "code",
   "execution_count": 4,
   "metadata": {
    "collapsed": true
   },
   "outputs": [],
   "source": [
    "def SVM (X_train, y_train, X_vali, y_vali, w):\n",
    "    train_loss = np.zeros(iter)          \n",
    "    validation_loss = np.zeros(iter)      \n",
    "    for i in range(iter):       \n",
    "        hinge_loss_train = hinge_loss_f(X_train, y_train, w)                                    \n",
    "        train_loss[i] = np.dot(w, w.reshape(dimension, 1)) / 2 + C * hinge_loss_train            \n",
    "        hinge_loss_validation = hinge_loss_f(X_vali, y_vali, w)                                  \n",
    "        validation_loss[i] = np.dot(w, w.reshape(dimension, 1)) / 2 + C * hinge_loss_validation   \n",
    "        #gradient descent\n",
    "        G = derivative(X_train, y_train, w)         \n",
    "        w = w - eta * G                           \n",
    "    return train_loss,validation_loss       "
   ]
  },
  {
   "cell_type": "code",
   "execution_count": 5,
   "metadata": {
    "collapsed": true
   },
   "outputs": [],
   "source": [
    "def hinge_loss_f (X, y, w):\n",
    "    loss = 0\n",
    "    hit = 0\n",
    "    for i in range(X.shape[0]):\n",
    "        judge = y[i] * np.dot(X[i], w.reshape(X.shape[1], 1))\n",
    "        if (judge >= 1):\n",
    "            loss = loss + 0\n",
    "        else:\n",
    "            loss = loss + 1 - judge\n",
    "        if (judge > 0):\n",
    "            hit = hit + 1\n",
    "        else:\n",
    "            hit = hit + 0\n",
    "    loss = loss / X.shape[0]\n",
    "    hit_rate = hit / X.shape[0]\n",
    "    return loss"
   ]
  },
  {
   "cell_type": "code",
   "execution_count": 6,
   "metadata": {
    "collapsed": true
   },
   "outputs": [],
   "source": [
    "def derivative (X, y, w):\n",
    "    g = np.zeros(X.shape[1])\n",
    "    for i in range(X.shape[0]):\n",
    "        judge = y[i] * np.dot(X[i], w.reshape(X.shape[1], 1))\n",
    "        if (judge < 1):\n",
    "            g = g - y[i] * X[i]\n",
    "    G = w + C * g\n",
    "    return G"
   ]
  },
  {
   "cell_type": "code",
   "execution_count": 7,
   "metadata": {},
   "outputs": [],
   "source": [
    "L_train, L_validation = SVM(X_train, y_train, X_vali, y_vali, w)"
   ]
  },
  {
   "cell_type": "code",
   "execution_count": 8,
   "metadata": {},
   "outputs": [
    {
     "data": {
      "text/plain": [
       "Text(0,0.5,'Loss')"
      ]
     },
     "execution_count": 8,
     "metadata": {},
     "output_type": "execute_result"
    },
    {
     "data": {
      "image/png": "[encoded data removed]",
      "text/plain": [
       "<matplotlib.figure.Figure at 0x274324401d0>"
      ]
     },
     "metadata": {},
     "output_type": "display_data"
    }
   ],
   "source": [
    "x = np.arange(iter)\n",
    "fig, ax = plt.subplots(figsize=(12,8))  \n",
    "ax.plot(x, L_train.tolist(), 'r', label = 'Train Loss')\n",
    "ax.plot(x, L_validation.tolist(), 'b', label = 'Validation Loss')\n",
    "ax.legend()  \n",
    "ax.set_xlabel('Iterations')  \n",
    "ax.set_ylabel('Loss')  "
   ]
  }
 ],
 "metadata": {
  "kernelspec": {
   "display_name": "Python 3",
   "language": "python",
   "name": "python3"
  },
  "language_info": {
   "codemirror_mode": {
    "name": "ipython",
    "version": 3
   },
   "file_extension": ".py",
   "mimetype": "text/x-python",
   "name": "python",
   "nbconvert_exporter": "python",
   "pygments_lexer": "ipython3",
   "version": "3.6.3"
  }
 },
 "nbformat": 4,
 "nbformat_minor": 2
}
