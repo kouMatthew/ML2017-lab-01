{
 "cells": [
  {
   "cell_type": "code",
   "execution_count": 1,
   "metadata": {
    "collapsed": true
   },
   "outputs": [],
   "source": [
    "import numpy as np\n",
    "import matplotlib.pyplot as plt\n",
    "from sklearn.datasets import load_svmlight_file\n",
    "from sklearn.model_selection import train_test_split\n",
    "%matplotlib inline"
   ]
  },
  {
   "cell_type": "code",
   "execution_count": 2,
   "metadata": {
    "collapsed": true
   },
   "outputs": [],
   "source": [
    "data = load_svmlight_file(\"housing_scale.txt\")\n",
    "X_train,X_vali, y_train, y_vali = train_test_split(data[0].todense(),\n",
    "                                                   data[1],test_size=0.33,\n",
    "                                                   random_state=100)"
   ]
  },
  {
   "cell_type": "code",
   "execution_count": 3,
   "metadata": {
    "collapsed": true
   },
   "outputs": [],
   "source": [
    "bt = np.ones(X_train.shape[0])\n",
    "X_train = np.c_[X_train,bt]\n",
    "bv = np.ones(X_vali.shape[0])\n",
    "X_vali = np.c_[X_vali,bv]\n",
    "eta = 0.1 #歩长\n",
    "iters = 100 #迭代次数     \n",
    "w = np.random.normal(size = (X_train.shape[1]))  #正态分布初始化\n",
    "G = np.zeros(X_train.shape[1]) "
   ]
  },
  {
   "cell_type": "code",
   "execution_count": 4,
   "metadata": {
    "collapsed": true
   },
   "outputs": [],
   "source": [
    "def linearRegression (X_train, y_train, X_vali, y_vali, w):\n",
    "    train_loss = np.zeros(iters)\n",
    "    vali_loss = np.zeros(iters)\n",
    "    for i in range(iters):\n",
    "        #Train Loss\n",
    "        train_loss[i], train_deviation = lossFunc(X_train, y_train, w)\n",
    "        train_loss[i] = train_loss[i] / train_deviation.shape[0]\n",
    "        #Validation Loss\n",
    "        vali_loss[i], vali_deviation = lossFunc(X_vali, y_vali, w)\n",
    "        vali_loss[i] = vali_loss[i] / vali_deviation.shape[0]\n",
    "        #Gradient Descent\n",
    "        G = -np.dot(train_deviation.reshape(1, train_deviation.shape[0]), X_train / X_train.shape[0]) * 2\n",
    "        w = w - eta * G\n",
    "    return train_loss, vali_loss"
   ]
  },
  {
   "cell_type": "code",
   "execution_count": 5,
   "metadata": {
    "collapsed": true
   },
   "outputs": [],
   "source": [
    "def lossFunc (X, y, w):\n",
    "    loss = 0\n",
    "    deviation = y.reshape(y.shape[0], 1) - np.dot(X, w.reshape(X.shape[1], 1))\n",
    "    for i in range(deviation.shape[0]):\n",
    "        loss = loss + deviation[i] ** 2\n",
    "    return loss, deviation"
   ]
  },
  {
   "cell_type": "code",
   "execution_count": 6,
   "metadata": {
    "collapsed": true
   },
   "outputs": [],
   "source": [
    "trainLoss, valiLoss = linearRegression (X_train, y_train, X_vali, y_vali, w)"
   ]
  },
  {
   "cell_type": "code",
   "execution_count": 7,
   "metadata": {},
   "outputs": [
    {
     "data": {
      "text/plain": [
       "Text(0,0.5,'Loss')"
      ]
     },
     "execution_count": 7,
     "metadata": {},
     "output_type": "execute_result"
    },
    {
     "data": {
      "image/png": "[encoded data removed]",
      "text/plain": [
       "<matplotlib.figure.Figure at 0x1656be40470>"
      ]
     },
     "metadata": {},
     "output_type": "display_data"
    }
   ],
   "source": [
    "x = np.arange(iters)\n",
    "fig, ax = plt.subplots(figsize=(12,8))  \n",
    "ax.plot(x, trainLoss.tolist(), 'r', label = 'Train Loss')\n",
    "ax.plot(x, valiLoss.tolist(), 'b', label = 'Validation Loss')\n",
    "ax.legend(loc=2)  \n",
    "ax.set_xlabel('Iterations')  \n",
    "ax.set_ylabel('Loss')  "
   ]
  }
 ],
 "metadata": {
  "kernelspec": {
   "display_name": "Python 3",
   "language": "python",
   "name": "python3"
  },
  "language_info": {
   "codemirror_mode": {
    "name": "ipython",
    "version": 3
   },
   "file_extension": ".py",
   "mimetype": "text/x-python",
   "name": "python",
   "nbconvert_exporter": "python",
   "pygments_lexer": "ipython3",
   "version": "3.6.3"
  }
 },
 "nbformat": 4,
 "nbformat_minor": 2
}
