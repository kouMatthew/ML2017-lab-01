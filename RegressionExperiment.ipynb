{
 "cells": [
  {
   "cell_type": "code",
   "execution_count": 1,
   "metadata": {
    "collapsed": true
   },
   "outputs": [],
   "source": [
    "import numpy as np\n",
    "import matplotlib.pyplot as plt\n",
    "from sklearn.datasets import load_svmlight_file\n",
    "from sklearn.model_selection import train_test_split\n",
    "%matplotlib inline"
   ]
  },
  {
   "cell_type": "code",
   "execution_count": 2,
   "metadata": {
    "collapsed": true
   },
   "outputs": [],
   "source": [
    "data = load_svmlight_file(\"housing_scale.txt\")\n",
    "X_train,X_vali, y_train, y_vali = train_test_split(data[0].todense(),\n",
    "                                                   data[1],test_size=0.33,\n",
    "                                                   random_state=100)"
   ]
  },
  {
   "cell_type": "code",
   "execution_count": 3,
   "metadata": {
    "collapsed": true
   },
   "outputs": [],
   "source": [
    "bt = np.ones(X_train.shape[0])\n",
    "X_train = np.c_[X_train,bt]\n",
    "bv = np.ones(X_vali.shape[0])\n",
    "X_vali = np.c_[X_vali,bv]\n",
    "eta = 0.1 #歩长\n",
    "iters = 100 #迭代次数     \n",
    "w = np.random.normal(size = (X_train.shape[1]))  #正态分布初始化\n",
    "G = np.zeros(X_train.shape[1]) "
   ]
  },
  {
   "cell_type": "code",
   "execution_count": 4,
   "metadata": {
    "collapsed": true
   },
   "outputs": [],
   "source": [
    "def linearRegression (X_train, y_train, X_vali, y_vali, w):\n",
    "    train_loss = np.zeros(iters)\n",
    "    vali_loss = np.zeros(iters)\n",
    "    for i in range(iters):\n",
    "        #Train Loss\n",
    "        train_loss[i], train_deviation = lossFunc(X_train, y_train, w)\n",
    "        train_loss[i] = train_loss[i] / train_deviation.shape[0]\n",
    "        #Validation Loss\n",
    "        vali_loss[i], vali_deviation = lossFunc(X_vali, y_vali, w)\n",
    "        vali_loss[i] = vali_loss[i] / vali_deviation.shape[0]\n",
    "        #Gradient Descent\n",
    "        G = -np.dot(train_deviation.reshape(1, train_deviation.shape[0]), X_train / X_train.shape[0]) * 2\n",
    "        w = w - eta * G\n",
    "    return train_loss, vali_loss"
   ]
  },
  {
   "cell_type": "code",
   "execution_count": 5,
   "metadata": {
    "collapsed": true
   },
   "outputs": [],
   "source": [
    "def lossFunc (X, y, w):\n",
    "    loss = 0\n",
    "    deviation = y.reshape(y.shape[0], 1) - np.dot(X, w.reshape(X.shape[1], 1))\n",
    "    for i in range(deviation.shape[0]):\n",
    "        loss = loss + deviation[i] ** 2\n",
    "    return loss, deviation"
   ]
  },
  {
   "cell_type": "code",
   "execution_count": 6,
   "metadata": {
    "collapsed": true
   },
   "outputs": [],
   "source": [
    "trainLoss, valiLoss = linearRegression (X_train, y_train, X_vali, y_vali, w)"
   ]
  },
  {
   "cell_type": "code",
   "execution_count": 7,
   "metadata": {},
   "outputs": [
    {
     "data": {
      "text/plain": [
       "Text(0,0.5,'Loss')"
      ]
     },
     "execution_count": 7,
     "metadata": {},
     "output_type": "execute_result"
    },
    {
     "data": {
      "image/png": "[encoded data removed]",
      "text/plain": [
       "<matplotlib.figure.Figure at 0x17ae086d518>"
      ]
     },
     "metadata": {},
     "output_type": "display_data"
    }
   ],
   "source": [
    "x = np.arange(iters)\n",
    "fig, ax = plt.subplots(figsize=(12,8))  \n",
    "ax.plot(x, trainLoss.tolist(), 'r', label = 'Train Loss')\n",
    "ax.plot(x, valiLoss.tolist(), 'b', label = 'Validation Loss')\n",
    "ax.legend(loc=2)  \n",
    "ax.set_xlabel('Iterations')  \n",
    "ax.set_ylabel('Loss')  "
   ]
  },
  {
   "cell_type": "code",
   "execution_count": 8,
   "metadata": {},
   "outputs": [
    {
     "data": {
      "text/plain": [
       "array([ 836.799503  ,   68.365688  ,   62.94871102,   59.3347964 ,\n",
       "         56.32803073,   53.70246877,   51.34588657,   49.19901246,\n",
       "         47.22767941,   45.40989081,   43.72978932,   42.17482342,\n",
       "         40.73439682,   39.39920762,   38.16090952,   37.01192507,\n",
       "         35.94533176,   34.95478431,   34.03445586,   33.17898982,\n",
       "         32.38345858,   31.64332688,   30.95441898,   30.31288884,\n",
       "         29.71519302,   29.15806589,   28.63849699,   28.1537103 ,\n",
       "         27.70114529,   27.27843956,   26.88341287,   26.51405256,\n",
       "         26.16850019,   25.84503925,   25.54208388,   25.25816855,\n",
       "         24.99193857,   24.74214137,   24.50761847,   24.28729816,\n",
       "         24.08018873,   23.88537222,   23.70199877,   23.52928128,\n",
       "         23.36649065,   23.21295127,   23.06803697,   22.9311672 ,\n",
       "         22.80180358,   22.67944672,   22.56363321,   22.45393298,\n",
       "         22.34994671,   22.2513036 ,   22.15765918,   22.06869336,\n",
       "         21.98410864,   21.90362839,   21.82699536,   21.75397022,\n",
       "         21.68433021,   21.61786802,   21.55439055,   21.49371795,\n",
       "         21.43568264,   21.3801284 ,   21.32690958,   21.27589032,\n",
       "         21.22694385,   21.17995185,   21.13480382,   21.09139658,\n",
       "         21.04963368,   21.00942498,   20.97068619,   20.93333845,\n",
       "         20.89730797,   20.86252563,   20.82892675,   20.79645066,\n",
       "         20.76504054,   20.73464306,   20.70520824,   20.6766891 ,\n",
       "         20.64904159,   20.62222427,   20.59619824,   20.57092687,\n",
       "         20.54637575,   20.52251245,   20.49930645,   20.47672899,\n",
       "         20.45475296,   20.43335281,   20.41250439,   20.39218493,\n",
       "         20.37237293,   20.35304804,   20.33419104,   20.31578373])"
      ]
     },
     "execution_count": 8,
     "metadata": {},
     "output_type": "execute_result"
    }
   ],
   "source": [
    "trainLoss"
   ]
  },
  {
   "cell_type": "code",
   "execution_count": 9,
   "metadata": {},
   "outputs": [
    {
     "data": {
      "text/plain": [
       "array([ 848.64700096,   89.45422734,   83.54681242,   79.59414023,\n",
       "         76.26268448,   73.31570456,   70.64055969,   68.17899197,\n",
       "         65.8979979 ,   63.77654888,   61.79949471,   59.95475833,\n",
       "         58.23203599,   56.62218417,   55.11691886,   53.70865684,\n",
       "         52.39042173,   51.15578021,   49.99879288,   48.913973  ,\n",
       "         47.89624992,   46.94093606,   46.04369663,   45.20052181,\n",
       "         44.40770117,   43.66180012,   42.95963833,   42.29826977,\n",
       "         41.6749645 ,   41.08719183,   40.53260492,   40.0090266 ,\n",
       "         39.51443631,   39.04695812,   38.60484974,   38.18649231,\n",
       "         37.79038115,   37.41511707,   37.05939855,   36.72201439,\n",
       "         36.401837  ,   36.09781623,   35.80897366,   35.53439728,\n",
       "         35.27323672,   35.02469868,   34.78804284,   34.56257803,\n",
       "         34.34765868,   34.14268159,   33.94708285,   33.76033514,\n",
       "         33.58194506,   33.41145081,   33.24841996,   33.09244739,\n",
       "         32.9431534 ,   32.80018199,   32.6631992 ,   32.53189161,\n",
       "         32.40596495,   32.28514281,   32.16916543,   32.0577886 ,\n",
       "         31.95078258,   31.84793122,   31.749031  ,   31.65389021,\n",
       "         31.56232822,   31.47417473,   31.38926909,   31.30745972,\n",
       "         31.22860353,   31.15256534,   31.07921743,   31.00843904,\n",
       "         30.94011596,   30.87414012,   30.8104092 ,   30.74882629,\n",
       "         30.68929956,   30.63174196,   30.57607093,   30.52220812,\n",
       "         30.47007917,   30.41961344,   30.37074381,   30.32340651,\n",
       "         30.27754087,   30.23308916,   30.18999646,   30.14821045,\n",
       "         30.1076813 ,   30.06836151,   30.03020582,   29.99317103,\n",
       "         29.95721593,   29.92230118,   29.8883892 ,   29.85544411])"
      ]
     },
     "execution_count": 9,
     "metadata": {},
     "output_type": "execute_result"
    }
   ],
   "source": [
    "valiLoss"
   ]
  }
 ],
 "metadata": {
  "kernelspec": {
   "display_name": "Python 3",
   "language": "python",
   "name": "python3"
  },
  "language_info": {
   "codemirror_mode": {
    "name": "ipython",
    "version": 3
   },
   "file_extension": ".py",
   "mimetype": "text/x-python",
   "name": "python",
   "nbconvert_exporter": "python",
   "pygments_lexer": "ipython3",
   "version": "3.6.3"
  }
 },
 "nbformat": 4,
 "nbformat_minor": 2
}
